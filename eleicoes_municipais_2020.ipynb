{
  "nbformat": 4,
  "nbformat_minor": 0,
  "metadata": {
    "colab": {
      "name": "eleicoes_municipais_2020.ipynb",
      "provenance": [],
      "collapsed_sections": []
    },
    "kernelspec": {
      "name": "python3",
      "display_name": "Python 3"
    }
  },
  "cells": [
    {
      "cell_type": "code",
      "metadata": {
        "id": "2AMg6ey0ozfB"
      },
      "source": [
        "# Importando bibliotecas\n",
        "import pandas as pd\n",
        "import numpy as np\n",
        "import matplotlib.pyplot as plt\n",
        "import seaborn as srn"
      ],
      "execution_count": 3,
      "outputs": []
    },
    {
      "cell_type": "code",
      "metadata": {
        "id": "9v1VMaitpjyn",
        "outputId": "42ef8266-43d8-4270-c13a-72fce53bf8c8",
        "colab": {
          "base_uri": "https://localhost:8080/"
        }
      },
      "source": [
        "estado = \"RJ\"\n",
        "\n",
        "# Consultando dados armazenados no github\n",
        "uri = f\"https://github.com/yuri-martins/analise_municip_eleicoes20/blob/main/Fonte%20de%20dados/Consulta%20Candidato/consulta_cand_2020_{estado}.csv?raw=true\"\n",
        "\n",
        "# Montando o arquivo\n",
        "arquivo = f'consulta_cand_2020_{estado}.csv'\n",
        "\n",
        "# GET\n",
        "!wget -O $arquivo $uri"
      ],
      "execution_count": 24,
      "outputs": [
        {
          "output_type": "stream",
          "text": [
            "--2020-11-04 05:21:10--  https://github.com/yuri-martins/analise_municip_eleicoes20/blob/main/Fonte%20de%20dados/Consulta%20Candidato/consulta_cand_2020_RJ.csv?raw=true\n",
            "Resolving github.com (github.com)... 140.82.112.4\n",
            "Connecting to github.com (github.com)|140.82.112.4|:443... connected.\n",
            "HTTP request sent, awaiting response... 302 Found\n",
            "Location: https://github.com/yuri-martins/analise_municip_eleicoes20/raw/main/Fonte%20de%20dados/Consulta%20Candidato/consulta_cand_2020_RJ.csv [following]\n",
            "--2020-11-04 05:21:10--  https://github.com/yuri-martins/analise_municip_eleicoes20/raw/main/Fonte%20de%20dados/Consulta%20Candidato/consulta_cand_2020_RJ.csv\n",
            "Reusing existing connection to github.com:443.\n",
            "HTTP request sent, awaiting response... 302 Found\n",
            "Location: https://raw.githubusercontent.com/yuri-martins/analise_municip_eleicoes20/main/Fonte%20de%20dados/Consulta%20Candidato/consulta_cand_2020_RJ.csv [following]\n",
            "--2020-11-04 05:21:10--  https://raw.githubusercontent.com/yuri-martins/analise_municip_eleicoes20/main/Fonte%20de%20dados/Consulta%20Candidato/consulta_cand_2020_RJ.csv\n",
            "Resolving raw.githubusercontent.com (raw.githubusercontent.com)... 151.101.0.133, 151.101.64.133, 151.101.128.133, ...\n",
            "Connecting to raw.githubusercontent.com (raw.githubusercontent.com)|151.101.0.133|:443... connected.\n",
            "HTTP request sent, awaiting response... 200 OK\n",
            "Length: 17990483 (17M) [text/plain]\n",
            "Saving to: ‘consulta_cand_2020_RJ.csv’\n",
            "\n",
            "consulta_cand_2020_ 100%[===================>]  17.16M  25.0MB/s    in 0.7s    \n",
            "\n",
            "2020-11-04 05:21:11 (25.0 MB/s) - ‘consulta_cand_2020_RJ.csv’ saved [17990483/17990483]\n",
            "\n"
          ],
          "name": "stdout"
        }
      ]
    },
    {
      "cell_type": "code",
      "metadata": {
        "id": "0bd5qZcaqT7g",
        "outputId": "cc55d8eb-db34-451f-b58d-19d76e7d28f7",
        "colab": {
          "base_uri": "https://localhost:8080/",
          "height": 422
        }
      },
      "source": [
        "# Lendo o csv e tranformando em DataFrame\n",
        "df = pd.read_csv(fonte, sep=';', encoding='latin-1')\n",
        "\n",
        "# visualizar DataFrame\n",
        "df.head()"
      ],
      "execution_count": 26,
      "outputs": [
        {
          "output_type": "execute_result",
          "data": {
            "text/html": [
              "<div>\n",
              "<style scoped>\n",
              "    .dataframe tbody tr th:only-of-type {\n",
              "        vertical-align: middle;\n",
              "    }\n",
              "\n",
              "    .dataframe tbody tr th {\n",
              "        vertical-align: top;\n",
              "    }\n",
              "\n",
              "    .dataframe thead th {\n",
              "        text-align: right;\n",
              "    }\n",
              "</style>\n",
              "<table border=\"1\" class=\"dataframe\">\n",
              "  <thead>\n",
              "    <tr style=\"text-align: right;\">\n",
              "      <th></th>\n",
              "      <th>DT_GERACAO</th>\n",
              "      <th>HH_GERACAO</th>\n",
              "      <th>ANO_ELEICAO</th>\n",
              "      <th>CD_TIPO_ELEICAO</th>\n",
              "      <th>NM_TIPO_ELEICAO</th>\n",
              "      <th>NR_TURNO</th>\n",
              "      <th>CD_ELEICAO</th>\n",
              "      <th>DS_ELEICAO</th>\n",
              "      <th>DT_ELEICAO</th>\n",
              "      <th>TP_ABRANGENCIA</th>\n",
              "      <th>SG_UF</th>\n",
              "      <th>SG_UE</th>\n",
              "      <th>NM_UE</th>\n",
              "      <th>CD_CARGO</th>\n",
              "      <th>DS_CARGO</th>\n",
              "      <th>SQ_CANDIDATO</th>\n",
              "      <th>NR_CANDIDATO</th>\n",
              "      <th>NM_CANDIDATO</th>\n",
              "      <th>NM_URNA_CANDIDATO</th>\n",
              "      <th>NM_SOCIAL_CANDIDATO</th>\n",
              "      <th>NR_CPF_CANDIDATO</th>\n",
              "      <th>NM_EMAIL</th>\n",
              "      <th>CD_SITUACAO_CANDIDATURA</th>\n",
              "      <th>DS_SITUACAO_CANDIDATURA</th>\n",
              "      <th>CD_DETALHE_SITUACAO_CAND</th>\n",
              "      <th>DS_DETALHE_SITUACAO_CAND</th>\n",
              "      <th>TP_AGREMIACAO</th>\n",
              "      <th>NR_PARTIDO</th>\n",
              "      <th>SG_PARTIDO</th>\n",
              "      <th>NM_PARTIDO</th>\n",
              "      <th>SQ_COLIGACAO</th>\n",
              "      <th>NM_COLIGACAO</th>\n",
              "      <th>DS_COMPOSICAO_COLIGACAO</th>\n",
              "      <th>CD_NACIONALIDADE</th>\n",
              "      <th>DS_NACIONALIDADE</th>\n",
              "      <th>SG_UF_NASCIMENTO</th>\n",
              "      <th>CD_MUNICIPIO_NASCIMENTO</th>\n",
              "      <th>NM_MUNICIPIO_NASCIMENTO</th>\n",
              "      <th>DT_NASCIMENTO</th>\n",
              "      <th>NR_IDADE_DATA_POSSE</th>\n",
              "      <th>NR_TITULO_ELEITORAL_CANDIDATO</th>\n",
              "      <th>CD_GENERO</th>\n",
              "      <th>DS_GENERO</th>\n",
              "      <th>CD_GRAU_INSTRUCAO</th>\n",
              "      <th>DS_GRAU_INSTRUCAO</th>\n",
              "      <th>CD_ESTADO_CIVIL</th>\n",
              "      <th>DS_ESTADO_CIVIL</th>\n",
              "      <th>CD_COR_RACA</th>\n",
              "      <th>DS_COR_RACA</th>\n",
              "      <th>CD_OCUPACAO</th>\n",
              "      <th>DS_OCUPACAO</th>\n",
              "      <th>VR_DESPESA_MAX_CAMPANHA</th>\n",
              "      <th>CD_SIT_TOT_TURNO</th>\n",
              "      <th>DS_SIT_TOT_TURNO</th>\n",
              "      <th>ST_REELEICAO</th>\n",
              "      <th>ST_DECLARAR_BENS</th>\n",
              "      <th>NR_PROTOCOLO_CANDIDATURA</th>\n",
              "      <th>NR_PROCESSO</th>\n",
              "      <th>CD_SITUACAO_CANDIDATO_PLEITO</th>\n",
              "      <th>DS_SITUACAO_CANDIDATO_PLEITO</th>\n",
              "      <th>CD_SITUACAO_CANDIDATO_URNA</th>\n",
              "      <th>DS_SITUACAO_CANDIDATO_URNA</th>\n",
              "      <th>ST_CANDIDATO_INSERIDO_URNA</th>\n",
              "    </tr>\n",
              "  </thead>\n",
              "  <tbody>\n",
              "    <tr>\n",
              "      <th>0</th>\n",
              "      <td>02/11/2020</td>\n",
              "      <td>17:17:07</td>\n",
              "      <td>2020</td>\n",
              "      <td>2</td>\n",
              "      <td>ELEIÇÃO ORDINÁRIA</td>\n",
              "      <td>1</td>\n",
              "      <td>426</td>\n",
              "      <td>Eleições Municipais 2020</td>\n",
              "      <td>15/11/2020</td>\n",
              "      <td>MUNICIPAL</td>\n",
              "      <td>RJ</td>\n",
              "      <td>60011</td>\n",
              "      <td>RIO DE JANEIRO</td>\n",
              "      <td>13</td>\n",
              "      <td>VEREADOR</td>\n",
              "      <td>190000987415</td>\n",
              "      <td>35654</td>\n",
              "      <td>ISMAEL DA SILVA LEMOS</td>\n",
              "      <td>VIGILANTE LEMOS</td>\n",
              "      <td>#NULO#</td>\n",
              "      <td>70326118268</td>\n",
              "      <td>ISMAELEMOSRJ@GMAIL.COM</td>\n",
              "      <td>12</td>\n",
              "      <td>APTO</td>\n",
              "      <td>2</td>\n",
              "      <td>DEFERIDO</td>\n",
              "      <td>PARTIDO ISOLADO</td>\n",
              "      <td>35</td>\n",
              "      <td>PMB</td>\n",
              "      <td>PARTIDO DA MULHER BRASILEIRA</td>\n",
              "      <td>190000115595</td>\n",
              "      <td>PARTIDO ISOLADO</td>\n",
              "      <td>PMB</td>\n",
              "      <td>1</td>\n",
              "      <td>BRASILEIRA NATA</td>\n",
              "      <td>RJ</td>\n",
              "      <td>-3</td>\n",
              "      <td>RIO DE JANEIRO</td>\n",
              "      <td>05/09/1981</td>\n",
              "      <td>39</td>\n",
              "      <td>107875000345</td>\n",
              "      <td>2</td>\n",
              "      <td>MASCULINO</td>\n",
              "      <td>5</td>\n",
              "      <td>ENSINO MÉDIO INCOMPLETO</td>\n",
              "      <td>3</td>\n",
              "      <td>CASADO(A)</td>\n",
              "      <td>3</td>\n",
              "      <td>PARDA</td>\n",
              "      <td>254</td>\n",
              "      <td>VIGILANTE</td>\n",
              "      <td>1594577</td>\n",
              "      <td>-1</td>\n",
              "      <td>#NULO#</td>\n",
              "      <td>N</td>\n",
              "      <td>S</td>\n",
              "      <td>-1</td>\n",
              "      <td>6010224020206190023</td>\n",
              "      <td>-1</td>\n",
              "      <td>#NULO#</td>\n",
              "      <td>-1</td>\n",
              "      <td>#NULO#</td>\n",
              "      <td>SIM</td>\n",
              "    </tr>\n",
              "    <tr>\n",
              "      <th>1</th>\n",
              "      <td>02/11/2020</td>\n",
              "      <td>17:17:07</td>\n",
              "      <td>2020</td>\n",
              "      <td>2</td>\n",
              "      <td>ELEIÇÃO ORDINÁRIA</td>\n",
              "      <td>1</td>\n",
              "      <td>426</td>\n",
              "      <td>Eleições Municipais 2020</td>\n",
              "      <td>15/11/2020</td>\n",
              "      <td>MUNICIPAL</td>\n",
              "      <td>RJ</td>\n",
              "      <td>58017</td>\n",
              "      <td>ANGRA DOS REIS</td>\n",
              "      <td>13</td>\n",
              "      <td>VEREADOR</td>\n",
              "      <td>190000900646</td>\n",
              "      <td>55133</td>\n",
              "      <td>ADEMIR ALVES DOS SANTOS</td>\n",
              "      <td>ADEMIR DO PEIXE</td>\n",
              "      <td>#NULO#</td>\n",
              "      <td>61408328704</td>\n",
              "      <td>ADVOGADO.FERREIRA1@GMAIL.COM</td>\n",
              "      <td>12</td>\n",
              "      <td>APTO</td>\n",
              "      <td>2</td>\n",
              "      <td>DEFERIDO</td>\n",
              "      <td>PARTIDO ISOLADO</td>\n",
              "      <td>55</td>\n",
              "      <td>PSD</td>\n",
              "      <td>PARTIDO SOCIAL DEMOCRÁTICO</td>\n",
              "      <td>190000102327</td>\n",
              "      <td>PARTIDO ISOLADO</td>\n",
              "      <td>PSD</td>\n",
              "      <td>1</td>\n",
              "      <td>BRASILEIRA NATA</td>\n",
              "      <td>RJ</td>\n",
              "      <td>-3</td>\n",
              "      <td>ANGRA DOS REIS</td>\n",
              "      <td>15/01/1960</td>\n",
              "      <td>60</td>\n",
              "      <td>70196670329</td>\n",
              "      <td>2</td>\n",
              "      <td>MASCULINO</td>\n",
              "      <td>3</td>\n",
              "      <td>ENSINO FUNDAMENTAL INCOMPLETO</td>\n",
              "      <td>3</td>\n",
              "      <td>CASADO(A)</td>\n",
              "      <td>1</td>\n",
              "      <td>BRANCA</td>\n",
              "      <td>604</td>\n",
              "      <td>PESCADOR</td>\n",
              "      <td>165993</td>\n",
              "      <td>-1</td>\n",
              "      <td>#NULO#</td>\n",
              "      <td>N</td>\n",
              "      <td>S</td>\n",
              "      <td>-1</td>\n",
              "      <td>6002258020206190147</td>\n",
              "      <td>-1</td>\n",
              "      <td>#NULO#</td>\n",
              "      <td>-1</td>\n",
              "      <td>#NULO#</td>\n",
              "      <td>SIM</td>\n",
              "    </tr>\n",
              "    <tr>\n",
              "      <th>2</th>\n",
              "      <td>02/11/2020</td>\n",
              "      <td>17:17:07</td>\n",
              "      <td>2020</td>\n",
              "      <td>2</td>\n",
              "      <td>ELEIÇÃO ORDINÁRIA</td>\n",
              "      <td>1</td>\n",
              "      <td>426</td>\n",
              "      <td>Eleições Municipais 2020</td>\n",
              "      <td>15/11/2020</td>\n",
              "      <td>MUNICIPAL</td>\n",
              "      <td>RJ</td>\n",
              "      <td>58750</td>\n",
              "      <td>PARATY</td>\n",
              "      <td>13</td>\n",
              "      <td>VEREADOR</td>\n",
              "      <td>190001233767</td>\n",
              "      <td>45645</td>\n",
              "      <td>HILTON MELO DA SILVA FILHO</td>\n",
              "      <td>HILTINHO MELO</td>\n",
              "      <td>#NULO#</td>\n",
              "      <td>47043245753</td>\n",
              "      <td>HILTON.MELO.IMOVEIS@GMAIL.COM</td>\n",
              "      <td>12</td>\n",
              "      <td>APTO</td>\n",
              "      <td>2</td>\n",
              "      <td>DEFERIDO</td>\n",
              "      <td>PARTIDO ISOLADO</td>\n",
              "      <td>45</td>\n",
              "      <td>PSDB</td>\n",
              "      <td>PARTIDO DA SOCIAL DEMOCRACIA BRASILEIRA</td>\n",
              "      <td>190000152511</td>\n",
              "      <td>PARTIDO ISOLADO</td>\n",
              "      <td>PSDB</td>\n",
              "      <td>1</td>\n",
              "      <td>BRASILEIRA NATA</td>\n",
              "      <td>RJ</td>\n",
              "      <td>-3</td>\n",
              "      <td>PARATY</td>\n",
              "      <td>06/09/1958</td>\n",
              "      <td>62</td>\n",
              "      <td>41156290337</td>\n",
              "      <td>2</td>\n",
              "      <td>MASCULINO</td>\n",
              "      <td>8</td>\n",
              "      <td>SUPERIOR COMPLETO</td>\n",
              "      <td>9</td>\n",
              "      <td>DIVORCIADO(A)</td>\n",
              "      <td>3</td>\n",
              "      <td>PARDA</td>\n",
              "      <td>403</td>\n",
              "      <td>CORRETOR DE IMÓVEIS, SEGUROS, TÍTULOS E VALORES</td>\n",
              "      <td>22421</td>\n",
              "      <td>-1</td>\n",
              "      <td>#NULO#</td>\n",
              "      <td>N</td>\n",
              "      <td>S</td>\n",
              "      <td>-1</td>\n",
              "      <td>6002178220206190057</td>\n",
              "      <td>-1</td>\n",
              "      <td>#NULO#</td>\n",
              "      <td>-1</td>\n",
              "      <td>#NULO#</td>\n",
              "      <td>SIM</td>\n",
              "    </tr>\n",
              "    <tr>\n",
              "      <th>3</th>\n",
              "      <td>02/11/2020</td>\n",
              "      <td>17:17:07</td>\n",
              "      <td>2020</td>\n",
              "      <td>2</td>\n",
              "      <td>ELEIÇÃO ORDINÁRIA</td>\n",
              "      <td>1</td>\n",
              "      <td>426</td>\n",
              "      <td>Eleições Municipais 2020</td>\n",
              "      <td>15/11/2020</td>\n",
              "      <td>MUNICIPAL</td>\n",
              "      <td>RJ</td>\n",
              "      <td>58041</td>\n",
              "      <td>BELFORD ROXO</td>\n",
              "      <td>13</td>\n",
              "      <td>VEREADOR</td>\n",
              "      <td>190001070648</td>\n",
              "      <td>90655</td>\n",
              "      <td>NILSON FERNANDES CONCEIÇÃO</td>\n",
              "      <td>NILSON FEIJÃO</td>\n",
              "      <td>#NULO#</td>\n",
              "      <td>7636950766</td>\n",
              "      <td>FERNANDESNILSON76@GMAIL.COM</td>\n",
              "      <td>12</td>\n",
              "      <td>APTO</td>\n",
              "      <td>2</td>\n",
              "      <td>DEFERIDO</td>\n",
              "      <td>PARTIDO ISOLADO</td>\n",
              "      <td>90</td>\n",
              "      <td>PROS</td>\n",
              "      <td>PARTIDO REPUBLICANO DA ORDEM SOCIAL</td>\n",
              "      <td>190000129457</td>\n",
              "      <td>PARTIDO ISOLADO</td>\n",
              "      <td>PROS</td>\n",
              "      <td>1</td>\n",
              "      <td>BRASILEIRA NATA</td>\n",
              "      <td>RJ</td>\n",
              "      <td>-3</td>\n",
              "      <td>BELFORD ROXO</td>\n",
              "      <td>08/04/1976</td>\n",
              "      <td>44</td>\n",
              "      <td>91736660388</td>\n",
              "      <td>2</td>\n",
              "      <td>MASCULINO</td>\n",
              "      <td>4</td>\n",
              "      <td>ENSINO FUNDAMENTAL COMPLETO</td>\n",
              "      <td>1</td>\n",
              "      <td>SOLTEIRO(A)</td>\n",
              "      <td>2</td>\n",
              "      <td>PRETA</td>\n",
              "      <td>999</td>\n",
              "      <td>OUTROS</td>\n",
              "      <td>140101</td>\n",
              "      <td>-1</td>\n",
              "      <td>#NULO#</td>\n",
              "      <td>N</td>\n",
              "      <td>S</td>\n",
              "      <td>-1</td>\n",
              "      <td>6004975320206190154</td>\n",
              "      <td>-1</td>\n",
              "      <td>#NULO#</td>\n",
              "      <td>-1</td>\n",
              "      <td>#NULO#</td>\n",
              "      <td>SIM</td>\n",
              "    </tr>\n",
              "    <tr>\n",
              "      <th>4</th>\n",
              "      <td>02/11/2020</td>\n",
              "      <td>17:17:07</td>\n",
              "      <td>2020</td>\n",
              "      <td>2</td>\n",
              "      <td>ELEIÇÃO ORDINÁRIA</td>\n",
              "      <td>1</td>\n",
              "      <td>426</td>\n",
              "      <td>Eleições Municipais 2020</td>\n",
              "      <td>15/11/2020</td>\n",
              "      <td>MUNICIPAL</td>\n",
              "      <td>RJ</td>\n",
              "      <td>58041</td>\n",
              "      <td>BELFORD ROXO</td>\n",
              "      <td>13</td>\n",
              "      <td>VEREADOR</td>\n",
              "      <td>190001071592</td>\n",
              "      <td>35679</td>\n",
              "      <td>ROBERTO RAMOS SOUZA</td>\n",
              "      <td>ROBERTO RAMOS DA IGREJINHA</td>\n",
              "      <td>#NULO#</td>\n",
              "      <td>87171791734</td>\n",
              "      <td>AAUGUSTO-SILVA@HOTMAIL.COM</td>\n",
              "      <td>12</td>\n",
              "      <td>APTO</td>\n",
              "      <td>2</td>\n",
              "      <td>DEFERIDO</td>\n",
              "      <td>PARTIDO ISOLADO</td>\n",
              "      <td>35</td>\n",
              "      <td>PMB</td>\n",
              "      <td>PARTIDO DA MULHER BRASILEIRA</td>\n",
              "      <td>190000129572</td>\n",
              "      <td>PARTIDO ISOLADO</td>\n",
              "      <td>PMB</td>\n",
              "      <td>1</td>\n",
              "      <td>BRASILEIRA NATA</td>\n",
              "      <td>RJ</td>\n",
              "      <td>-3</td>\n",
              "      <td>RIO DE JANEIRO</td>\n",
              "      <td>05/09/1960</td>\n",
              "      <td>60</td>\n",
              "      <td>43137020345</td>\n",
              "      <td>2</td>\n",
              "      <td>MASCULINO</td>\n",
              "      <td>3</td>\n",
              "      <td>ENSINO FUNDAMENTAL INCOMPLETO</td>\n",
              "      <td>1</td>\n",
              "      <td>SOLTEIRO(A)</td>\n",
              "      <td>3</td>\n",
              "      <td>PARDA</td>\n",
              "      <td>703</td>\n",
              "      <td>ELETRICISTA E ASSEMELHADOS</td>\n",
              "      <td>140101</td>\n",
              "      <td>-1</td>\n",
              "      <td>#NULO#</td>\n",
              "      <td>N</td>\n",
              "      <td>S</td>\n",
              "      <td>-1</td>\n",
              "      <td>6005599320206190154</td>\n",
              "      <td>-1</td>\n",
              "      <td>#NULO#</td>\n",
              "      <td>-1</td>\n",
              "      <td>#NULO#</td>\n",
              "      <td>SIM</td>\n",
              "    </tr>\n",
              "  </tbody>\n",
              "</table>\n",
              "</div>"
            ],
            "text/plain": [
              "   DT_GERACAO HH_GERACAO  ...  DS_SITUACAO_CANDIDATO_URNA  ST_CANDIDATO_INSERIDO_URNA\n",
              "0  02/11/2020   17:17:07  ...                      #NULO#                         SIM\n",
              "1  02/11/2020   17:17:07  ...                      #NULO#                         SIM\n",
              "2  02/11/2020   17:17:07  ...                      #NULO#                         SIM\n",
              "3  02/11/2020   17:17:07  ...                      #NULO#                         SIM\n",
              "4  02/11/2020   17:17:07  ...                      #NULO#                         SIM\n",
              "\n",
              "[5 rows x 63 columns]"
            ]
          },
          "metadata": {
            "tags": []
          },
          "execution_count": 26
        }
      ]
    },
    {
      "cell_type": "code",
      "metadata": {
        "id": "2-E3XK5RtIn-"
      },
      "source": [
        "# Montando DataFrame com candidatos de Belford Roxo\n",
        "\n",
        "df_belfordroxo = df.loc[(df['NM_UE'] == 'BELFORD ROXO')]"
      ],
      "execution_count": 28,
      "outputs": []
    },
    {
      "cell_type": "code",
      "metadata": {
        "id": "mZkDjATutSoH",
        "outputId": "4bcb8065-a6c9-4c69-e57d-7ccb938c2d70",
        "colab": {
          "base_uri": "https://localhost:8080/"
        }
      },
      "source": [
        "df_belfordroxo.shape"
      ],
      "execution_count": 29,
      "outputs": [
        {
          "output_type": "execute_result",
          "data": {
            "text/plain": [
              "(590, 63)"
            ]
          },
          "metadata": {
            "tags": []
          },
          "execution_count": 29
        }
      ]
    },
    {
      "cell_type": "markdown",
      "metadata": {
        "id": "45uF5d1buhdm"
      },
      "source": [
        "#Analise exploratória dos candidatos ao cargo de vereador de Belford Roxo"
      ]
    },
    {
      "cell_type": "code",
      "metadata": {
        "id": "Qgqe_SuUtVts",
        "outputId": "760b7e00-cafe-4457-b7d5-253bff2da2ef",
        "colab": {
          "base_uri": "https://localhost:8080/"
        }
      },
      "source": [
        "df_belfordroxo.groupby(['DS_CARGO']).size()"
      ],
      "execution_count": 30,
      "outputs": [
        {
          "output_type": "execute_result",
          "data": {
            "text/plain": [
              "DS_CARGO\n",
              "PREFEITO           6\n",
              "VEREADOR         578\n",
              "VICE-PREFEITO      6\n",
              "dtype: int64"
            ]
          },
          "metadata": {
            "tags": []
          },
          "execution_count": 30
        }
      ]
    },
    {
      "cell_type": "code",
      "metadata": {
        "id": "3DLYuuU7tW3Z"
      },
      "source": [
        "# Selecionando apenas candidatos ao cargo de vereador\n",
        "vereador_bel = df_belfordroxo.loc[(df['DS_CARGO'] == 'VEREADOR')]"
      ],
      "execution_count": 31,
      "outputs": []
    },
    {
      "cell_type": "code",
      "metadata": {
        "id": "6LLPpdhKtf3W",
        "outputId": "c445fab4-e99b-4dce-af82-19aaf3b4dd58",
        "colab": {
          "base_uri": "https://localhost:8080/"
        }
      },
      "source": [
        "# Explorar dados categoricos: Situação de Candidatura\n",
        "vereador_bel.groupby(['DS_DETALHE_SITUACAO_CAND']).size()"
      ],
      "execution_count": 32,
      "outputs": [
        {
          "output_type": "execute_result",
          "data": {
            "text/plain": [
              "DS_DETALHE_SITUACAO_CAND\n",
              "DEFERIDO                  538\n",
              "INDEFERIDO COM RECURSO     29\n",
              "PEDIDO NÃO CONHECIDO        1\n",
              "RENÚNCIA                   10\n",
              "dtype: int64"
            ]
          },
          "metadata": {
            "tags": []
          },
          "execution_count": 32
        }
      ]
    },
    {
      "cell_type": "code",
      "metadata": {
        "id": "Bvq4TPijtldg",
        "outputId": "1975b28f-dc49-4c8d-b18e-345c9305bef7",
        "colab": {
          "base_uri": "https://localhost:8080/"
        }
      },
      "source": [
        "vereador_bel.groupby(['TP_AGREMIACAO']).size()"
      ],
      "execution_count": 33,
      "outputs": [
        {
          "output_type": "execute_result",
          "data": {
            "text/plain": [
              "TP_AGREMIACAO\n",
              "PARTIDO ISOLADO    578\n",
              "dtype: int64"
            ]
          },
          "metadata": {
            "tags": []
          },
          "execution_count": 33
        }
      ]
    },
    {
      "cell_type": "code",
      "metadata": {
        "id": "ArShmYhItndP",
        "outputId": "7834b18c-cfa8-4602-942f-d6525724dc11",
        "colab": {
          "base_uri": "https://localhost:8080/"
        }
      },
      "source": [
        "vereador_bel.groupby(['DS_GENERO']).size()"
      ],
      "execution_count": 34,
      "outputs": [
        {
          "output_type": "execute_result",
          "data": {
            "text/plain": [
              "DS_GENERO\n",
              "FEMININO     191\n",
              "MASCULINO    387\n",
              "dtype: int64"
            ]
          },
          "metadata": {
            "tags": []
          },
          "execution_count": 34
        }
      ]
    },
    {
      "cell_type": "code",
      "metadata": {
        "id": "6ZHu-i8FtobY",
        "outputId": "37cb80d1-a058-486a-da92-17f21179f229",
        "colab": {
          "base_uri": "https://localhost:8080/",
          "height": 346
        }
      },
      "source": [
        "vereador_bel.groupby(['DS_GENERO']).size().plot.bar(color = '#001427', figsize=(8,4))"
      ],
      "execution_count": 50,
      "outputs": [
        {
          "output_type": "execute_result",
          "data": {
            "text/plain": [
              "<matplotlib.axes._subplots.AxesSubplot at 0x7f974a29b7b8>"
            ]
          },
          "metadata": {
            "tags": []
          },
          "execution_count": 50
        },
        {
          "output_type": "display_data",
          "data": {
            "image/png": "[encoded data removed]",
            "text/plain": [
              "<Figure size 576x288 with 1 Axes>"
            ]
          },
          "metadata": {
            "tags": [],
            "needs_background": "light"
          }
        }
      ]
    },
    {
      "cell_type": "code",
      "metadata": {
        "id": "DDV3F9kCtqGx",
        "outputId": "04af56b3-52e8-486c-8a85-125863050ed3",
        "colab": {
          "base_uri": "https://localhost:8080/",
          "height": 281
        }
      },
      "source": [
        "vereador_bel[\"NR_IDADE_DATA_POSSE\"].hist(color = '#001427', bins = 20, figsize=(8,4))"
      ],
      "execution_count": 38,
      "outputs": [
        {
          "output_type": "execute_result",
          "data": {
            "text/plain": [
              "<matplotlib.axes._subplots.AxesSubplot at 0x7f974beb5438>"
            ]
          },
          "metadata": {
            "tags": []
          },
          "execution_count": 38
        },
        {
          "output_type": "display_data",
          "data": {
            "image/png": "[encoded data removed]",
            "text/plain": [
              "<Figure size 576x288 with 1 Axes>"
            ]
          },
          "metadata": {
            "tags": [],
            "needs_background": "light"
          }
        }
      ]
    },
    {
      "cell_type": "code",
      "metadata": {
        "id": "uKdGX1GBt0-G",
        "outputId": "5d934515-1cf4-4ddf-bff8-0f042c2ecc54",
        "colab": {
          "base_uri": "https://localhost:8080/",
          "height": 365
        }
      },
      "source": [
        "srn.distplot(vereador_bel['NR_IDADE_DATA_POSSE']).set_title('NR_IDADE_DATA_POSSE')"
      ],
      "execution_count": 39,
      "outputs": [
        {
          "output_type": "stream",
          "text": [
            "/usr/local/lib/python3.6/dist-packages/seaborn/distributions.py:2551: FutureWarning: `distplot` is a deprecated function and will be removed in a future version. Please adapt your code to use either `displot` (a figure-level function with similar flexibility) or `histplot` (an axes-level function for histograms).\n",
            "  warnings.warn(msg, FutureWarning)\n"
          ],
          "name": "stderr"
        },
        {
          "output_type": "execute_result",
          "data": {
            "text/plain": [
              "Text(0.5, 1.0, 'NR_IDADE_DATA_POSSE')"
            ]
          },
          "metadata": {
            "tags": []
          },
          "execution_count": 39
        },
        {
          "output_type": "display_data",
          "data": {
            "image/png": "[encoded data removed]",
            "text/plain": [
              "<Figure size 432x288 with 1 Axes>"
            ]
          },
          "metadata": {
            "tags": [],
            "needs_background": "light"
          }
        }
      ]
    },
    {
      "cell_type": "code",
      "metadata": {
        "id": "cyzWDv6Bt3jv",
        "outputId": "786eda21-1143-4a87-ee6c-0949d3796583",
        "colab": {
          "base_uri": "https://localhost:8080/",
          "height": 500
        }
      },
      "source": [
        "vereador_bel[\"NR_IDADE_DATA_POSSE\"].plot.box(grid = True, figsize=(10,8))"
      ],
      "execution_count": 42,
      "outputs": [
        {
          "output_type": "execute_result",
          "data": {
            "text/plain": [
              "<matplotlib.axes._subplots.AxesSubplot at 0x7f974a2b37f0>"
            ]
          },
          "metadata": {
            "tags": []
          },
          "execution_count": 42
        },
        {
          "output_type": "display_data",
          "data": {
            "image/png": "[encoded data removed]",
            "text/plain": [
              "<Figure size 720x576 with 1 Axes>"
            ]
          },
          "metadata": {
            "tags": [],
            "needs_background": "light"
          }
        }
      ]
    },
    {
      "cell_type": "code",
      "metadata": {
        "id": "2WqfBi5bt9Bm",
        "outputId": "7a3d4831-5ce5-42a3-91d7-db065c709bad",
        "colab": {
          "base_uri": "https://localhost:8080/"
        }
      },
      "source": [
        "# Média de idade dos candidatos a vereador\n",
        "vereador_bel[\"NR_IDADE_DATA_POSSE\"].mean()"
      ],
      "execution_count": 43,
      "outputs": [
        {
          "output_type": "execute_result",
          "data": {
            "text/plain": [
              "46.48615916955017"
            ]
          },
          "metadata": {
            "tags": []
          },
          "execution_count": 43
        }
      ]
    },
    {
      "cell_type": "code",
      "metadata": {
        "id": "j5DVD1BEt_-d",
        "outputId": "5e5d8fac-be24-4dca-cee2-a57fba8553e9",
        "colab": {
          "base_uri": "https://localhost:8080/"
        }
      },
      "source": [
        "# Explorando dados numéricos de idade\n",
        "vereador_bel[\"NR_IDADE_DATA_POSSE\"].describe()"
      ],
      "execution_count": 44,
      "outputs": [
        {
          "output_type": "execute_result",
          "data": {
            "text/plain": [
              "count    578.000000\n",
              "mean      46.486159\n",
              "std       11.070625\n",
              "min       18.000000\n",
              "25%       40.000000\n",
              "50%       47.000000\n",
              "75%       54.000000\n",
              "max       93.000000\n",
              "Name: NR_IDADE_DATA_POSSE, dtype: float64"
            ]
          },
          "metadata": {
            "tags": []
          },
          "execution_count": 44
        }
      ]
    },
    {
      "cell_type": "code",
      "metadata": {
        "id": "A8TPqzn6uDdv",
        "outputId": "23d887d9-80be-45b8-d430-d7c112a2ef94",
        "colab": {
          "base_uri": "https://localhost:8080/"
        }
      },
      "source": [
        "# Distribuição por grau de instrução\n",
        "vereador_bel.groupby(['DS_GRAU_INSTRUCAO']).size()"
      ],
      "execution_count": 45,
      "outputs": [
        {
          "output_type": "execute_result",
          "data": {
            "text/plain": [
              "DS_GRAU_INSTRUCAO\n",
              "ENSINO FUNDAMENTAL COMPLETO       90\n",
              "ENSINO FUNDAMENTAL INCOMPLETO     68\n",
              "ENSINO MÉDIO COMPLETO            277\n",
              "ENSINO MÉDIO INCOMPLETO           21\n",
              "LÊ E ESCREVE                       6\n",
              "SUPERIOR COMPLETO                 90\n",
              "SUPERIOR INCOMPLETO               26\n",
              "dtype: int64"
            ]
          },
          "metadata": {
            "tags": []
          },
          "execution_count": 45
        }
      ]
    },
    {
      "cell_type": "code",
      "metadata": {
        "id": "q8DjTMt2uEpP",
        "outputId": "3d2d5359-75ff-42cf-c7ab-395946221106",
        "colab": {
          "base_uri": "https://localhost:8080/"
        }
      },
      "source": [
        "# Distribuição por estado civil\n",
        "vereador_bel.groupby(['DS_ESTADO_CIVIL']).size()"
      ],
      "execution_count": 46,
      "outputs": [
        {
          "output_type": "execute_result",
          "data": {
            "text/plain": [
              "DS_ESTADO_CIVIL\n",
              "CASADO(A)                    304\n",
              "DIVORCIADO(A)                 52\n",
              "SEPARADO(A) JUDICIALMENTE      2\n",
              "SOLTEIRO(A)                  209\n",
              "VIÚVO(A)                      11\n",
              "dtype: int64"
            ]
          },
          "metadata": {
            "tags": []
          },
          "execution_count": 46
        }
      ]
    },
    {
      "cell_type": "code",
      "metadata": {
        "id": "Nc5tc6MBuHIA",
        "outputId": "91f79c75-8519-4c16-cdfb-600808492d3e",
        "colab": {
          "base_uri": "https://localhost:8080/"
        }
      },
      "source": [
        "# Distribuição por raça\n",
        "vereador_bel.groupby(['DS_COR_RACA']).size()"
      ],
      "execution_count": 47,
      "outputs": [
        {
          "output_type": "execute_result",
          "data": {
            "text/plain": [
              "DS_COR_RACA\n",
              "BRANCA    158\n",
              "PARDA     311\n",
              "PRETA     109\n",
              "dtype: int64"
            ]
          },
          "metadata": {
            "tags": []
          },
          "execution_count": 47
        }
      ]
    },
    {
      "cell_type": "code",
      "metadata": {
        "id": "-KV99IWRuIzs",
        "outputId": "c237c1c9-d30e-4cf6-e1d3-8983cfb94e62",
        "colab": {
          "base_uri": "https://localhost:8080/",
          "height": 328
        }
      },
      "source": [
        "# Grafico de barra por distribuição por raça\n",
        "vereador_bel.groupby(['DS_COR_RACA']).size().plot.bar(color = '#001427',figsize=(8,4))"
      ],
      "execution_count": 49,
      "outputs": [
        {
          "output_type": "execute_result",
          "data": {
            "text/plain": [
              "<matplotlib.axes._subplots.AxesSubplot at 0x7f974b7d9630>"
            ]
          },
          "metadata": {
            "tags": []
          },
          "execution_count": 49
        },
        {
          "output_type": "display_data",
          "data": {
            "image/png": "[encoded data removed]",
            "text/plain": [
              "<Figure size 576x288 with 1 Axes>"
            ]
          },
          "metadata": {
            "tags": [],
            "needs_background": "light"
          }
        }
      ]
    },
    {
      "cell_type": "code",
      "metadata": {
        "id": "tWRWsIWouQD8",
        "outputId": "95c95cf7-b05c-4aa1-dad7-f4d25f9b39b8",
        "colab": {
          "base_uri": "https://localhost:8080/"
        }
      },
      "source": [
        "# Distribuição por ocupação\n",
        "vereador_bel.groupby(['DS_OCUPACAO']).size()"
      ],
      "execution_count": 51,
      "outputs": [
        {
          "output_type": "execute_result",
          "data": {
            "text/plain": [
              "DS_OCUPACAO\n",
              "ADMINISTRADOR                                                          6\n",
              "ADVOGADO                                                               9\n",
              "AGENTE ADMINISTRATIVO                                                  1\n",
              "ALFAIATE E COSTUREIRO                                                  1\n",
              "APOSENTADO (EXCETO SERVIDOR PÚBLICO)                                  16\n",
              "                                                                      ..\n",
              "TÉCNICO EM INFORMÁTICA                                                 1\n",
              "VENDEDOR DE COMÉRCIO VAREJISTA E ATACADISTA                           11\n",
              "VENDEDOR PRACISTA, REPRESENTANTE, CAIXEIRO-VIAJANTE E ASSEMELHADOS     6\n",
              "VEREADOR                                                              22\n",
              "VIGILANTE                                                              5\n",
              "Length: 67, dtype: int64"
            ]
          },
          "metadata": {
            "tags": []
          },
          "execution_count": 51
        }
      ]
    },
    {
      "cell_type": "code",
      "metadata": {
        "id": "BFAUHQW7uSD5",
        "outputId": "fca6c08d-9418-417e-cfe1-5d6446e9beba",
        "colab": {
          "base_uri": "https://localhost:8080/"
        }
      },
      "source": [
        "# Distribuição por partido\n",
        "vereador_bel.groupby(['SG_PARTIDO']).size()"
      ],
      "execution_count": 52,
      "outputs": [
        {
          "output_type": "execute_result",
          "data": {
            "text/plain": [
              "SG_PARTIDO\n",
              "CIDADANIA         2\n",
              "DEM              27\n",
              "MDB              38\n",
              "PATRIOTA         18\n",
              "PC do B          31\n",
              "PDT              38\n",
              "PL               31\n",
              "PMB              38\n",
              "PP               32\n",
              "PROS             16\n",
              "PRTB             38\n",
              "PSB               4\n",
              "PSC              16\n",
              "PSD              36\n",
              "PSDB             37\n",
              "PSL              31\n",
              "PSOL             16\n",
              "PT               38\n",
              "PTB              13\n",
              "PTC              10\n",
              "REPUBLICANOS     30\n",
              "SOLIDARIEDADE    38\n",
              "dtype: int64"
            ]
          },
          "metadata": {
            "tags": []
          },
          "execution_count": 52
        }
      ]
    },
    {
      "cell_type": "code",
      "metadata": {
        "id": "_2NkS_s8uUJv",
        "outputId": "9e9804b1-59f7-4fd2-d8bc-440fbe5fbddf",
        "colab": {
          "base_uri": "https://localhost:8080/"
        }
      },
      "source": [
        "# Nacionalidade dos candidatos\n",
        "vereador_bel.groupby(['DS_NACIONALIDADE']).size()"
      ],
      "execution_count": 53,
      "outputs": [
        {
          "output_type": "execute_result",
          "data": {
            "text/plain": [
              "DS_NACIONALIDADE\n",
              "BRASILEIRA NATA    577\n",
              "ESTRANGEIRO          1\n",
              "dtype: int64"
            ]
          },
          "metadata": {
            "tags": []
          },
          "execution_count": 53
        }
      ]
    },
    {
      "cell_type": "code",
      "metadata": {
        "id": "nhqpBknSuWCO",
        "outputId": "ebc6e850-7815-4981-abb8-a231d509f4fd",
        "colab": {
          "base_uri": "https://localhost:8080/"
        }
      },
      "source": [
        "# UF de nascimento dos candidatos\n",
        "vereador_bel.groupby(['SG_UF_NASCIMENTO']).size()"
      ],
      "execution_count": 54,
      "outputs": [
        {
          "output_type": "execute_result",
          "data": {
            "text/plain": [
              "SG_UF_NASCIMENTO\n",
              "AL      1\n",
              "BA      3\n",
              "CE      5\n",
              "DF      2\n",
              "ES      8\n",
              "MG     11\n",
              "PB      5\n",
              "PE      7\n",
              "PR      1\n",
              "RJ    523\n",
              "RN      5\n",
              "SE      2\n",
              "SP      5\n",
              "dtype: int64"
            ]
          },
          "metadata": {
            "tags": []
          },
          "execution_count": 54
        }
      ]
    },
    {
      "cell_type": "code",
      "metadata": {
        "id": "pxcJ5pijuX11",
        "outputId": "a7aef042-9acb-461b-ae23-1fffa50ba81a",
        "colab": {
          "base_uri": "https://localhost:8080/"
        }
      },
      "source": [
        "# Municipio de nascimento dos candidatos\n",
        "vereador_bel.groupby(['NM_MUNICIPIO_NASCIMENTO']).size()"
      ],
      "execution_count": 55,
      "outputs": [
        {
          "output_type": "execute_result",
          "data": {
            "text/plain": [
              "NM_MUNICIPIO_NASCIMENTO\n",
              "ALAGOINHA                   1\n",
              "ALEGRE                      1\n",
              "BARRA DE SÃO FRANCISCO      1\n",
              "BELFORD ROXO              118\n",
              "BELO HORIZONTE              2\n",
              "                         ... \n",
              "VARRE-SAI                   1\n",
              "VILA VELHA                  1\n",
              "VISCONDE DO RIO BRANCO      1\n",
              "VITÓRIA                     2\n",
              "VOLTA REDONDA               1\n",
              "Length: 65, dtype: int64"
            ]
          },
          "metadata": {
            "tags": []
          },
          "execution_count": 55
        }
      ]
    }
  ]
}